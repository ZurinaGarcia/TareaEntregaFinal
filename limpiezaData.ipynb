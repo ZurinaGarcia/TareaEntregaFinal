{
 "cells": [
  {
   "cell_type": "code",
   "execution_count": null,
   "id": "83739324",
   "metadata": {},
   "outputs": [],
   "source": [
    "#Necesito mi data en un solo mapa: "
   ]
  },
  {
   "cell_type": "code",
   "execution_count": 4,
   "id": "b952e068",
   "metadata": {},
   "outputs": [
    {
     "data": {
      "text/plain": [
       "['country', 'cities', 'rivers']"
      ]
     },
     "execution_count": 4,
     "metadata": {},
     "output_type": "execute_result"
    }
   ],
   "source": [
    "import geopandas as gpd\n",
    "import pandas as pd\n",
    "import os\n",
    "from  fiona import listlayers\n",
    "import os\n",
    "mapa_Ucrania='maps/ukraineMaps.gpkg'\n",
    "listlayers(mapa_Ucrania)\n"
   ]
  },
  {
   "cell_type": "code",
   "execution_count": 5,
   "id": "15b6d3b0",
   "metadata": {},
   "outputs": [],
   "source": [
    "# consiguiendo states y municipalities:\n",
    "states = gpd.read_file(os.path.join(\"maps\", \"ukr_admbnda_sspe_20230201_shp\", \"ukr_admbnda_adm1_sspe_20230201.shp\"))\n",
    "municipalities = gpd.read_file(os.path.join(\"maps\", \"ukr_admbnda_sspe_20230201_shp\", \"ukr_admbnda_adm2_sspe_20230201.shp\"))"
   ]
  },
  {
   "cell_type": "code",
   "execution_count": 4,
   "id": "94045a4f",
   "metadata": {},
   "outputs": [],
   "source": [
    "#agregarlos al mapa:\n",
    "\n",
    "municipalities.to_file(os.path.join(\"maps\",\"ukraineMaps.gpkg\"), layer='municipalities', driver=\"GPKG\")"
   ]
  },
  {
   "cell_type": "code",
   "execution_count": null,
   "id": "f68f6ca4",
   "metadata": {},
   "outputs": [],
   "source": []
  }
 ],
 "metadata": {
  "kernelspec": {
   "display_name": "Python 3 (ipykernel)",
   "language": "python",
   "name": "python3"
  },
  "language_info": {
   "codemirror_mode": {
    "name": "ipython",
    "version": 3
   },
   "file_extension": ".py",
   "mimetype": "text/x-python",
   "name": "python",
   "nbconvert_exporter": "python",
   "pygments_lexer": "ipython3",
   "version": "3.11.4"
  }
 },
 "nbformat": 4,
 "nbformat_minor": 5
}
